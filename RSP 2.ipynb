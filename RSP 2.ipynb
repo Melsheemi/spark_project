{
 "cells": [
  {
   "cell_type": "code",
   "execution_count": 1,
   "metadata": {},
   "outputs": [],
   "source": [
    "import findspark\n",
    "findspark.init()\n",
    "import pyspark\n",
    "from pyspark.sql import SparkSession as session"
   ]
  },
  {
   "cell_type": "code",
   "execution_count": 2,
   "metadata": {},
   "outputs": [],
   "source": [
    "context = pyspark.SparkContext('')\n",
    "spark = session.builder.master('local').appName('RSP2').getOrCreate()"
   ]
  },
  {
   "cell_type": "markdown",
   "metadata": {},
   "source": [
    "```\n",
    "Data Preparation\n",
    "```"
   ]
  },
  {
   "cell_type": "code",
   "execution_count": 25,
   "metadata": {},
   "outputs": [],
   "source": [
    "df = spark.read.json(r\"D:\\other\\image\\file.json\", multiLine = True)"
   ]
  },
  {
   "cell_type": "code",
   "execution_count": 13,
   "metadata": {},
   "outputs": [],
   "source": [
    "#df.show()\n",
    "# 1- flatten data, change column names, fix duplicate names (price)\n",
    "# 2- set data types\n",
    "# 3- remove null column -- check first if that is safe"
   ]
  },
  {
   "cell_type": "code",
   "execution_count": 26,
   "metadata": {},
   "outputs": [],
   "source": [
    "# 1- flatten data\n",
    "df = df.select('ad data.*', 'heading', 'location.*', 'price', 'unit')"
   ]
  },
  {
   "cell_type": "code",
   "execution_count": 15,
   "metadata": {},
   "outputs": [],
   "source": [
    "#df.columns"
   ]
  },
  {
   "cell_type": "code",
   "execution_count": 16,
   "metadata": {},
   "outputs": [],
   "source": [
    "# 2- change column names\n",
    "#dir(df)"
   ]
  },
  {
   "cell_type": "code",
   "execution_count": 17,
   "metadata": {},
   "outputs": [],
   "source": [
    "#help(df.withColumnRenamed)"
   ]
  },
  {
   "cell_type": "code",
   "execution_count": 27,
   "metadata": {},
   "outputs": [],
   "source": [
    "# df = df.withColumnRenamed('السعر', 'price')\n",
    "df = df.withColumnRenamed('الطابق', 'floor')\n",
    "df = df.withColumnRenamed('تاريخ النشر', 'publish_date')\n",
    "df = df.withColumnRenamed('تطل على', 'veiw')\n",
    "df = df.withColumnRenamed('رقم الإعلان', 'ad_date')\n",
    "df = df.withColumnRenamed('تطل على', 'veiw')\n",
    "df = df.withColumnRenamed('سعر المتر', 'meter_price')\n",
    "df = df.withColumnRenamed('سنة البناء', 'built_year')\n",
    "df = df.withColumnRenamed('طريقة الدفع', 'paying_method')\n",
    "df = df.withColumnRenamed('نوع التشطيب', 'finish')\n",
    "df = df.withColumnRenamed('نوع المعلن', 'advertiser')\n",
    "df = df.withColumnRenamed('price', '_price')"
   ]
  },
  {
   "cell_type": "code",
   "execution_count": 28,
   "metadata": {},
   "outputs": [],
   "source": [
    "df = df.withColumnRenamed('السعر', 'price')"
   ]
  },
  {
   "cell_type": "code",
   "execution_count": 20,
   "metadata": {},
   "outputs": [],
   "source": [
    "#df.show()"
   ]
  },
  {
   "cell_type": "code",
   "execution_count": 13,
   "metadata": {},
   "outputs": [],
   "source": [
    "# reexpanding data frame\n",
    "# df = df.select('ad data.*', 'heading', 'location.*', 'price', 'unit')"
   ]
  },
  {
   "cell_type": "code",
   "execution_count": 14,
   "metadata": {},
   "outputs": [],
   "source": [
    "#df.columns"
   ]
  },
  {
   "cell_type": "code",
   "execution_count": 15,
   "metadata": {},
   "outputs": [],
   "source": [
    "#df.show()"
   ]
  },
  {
   "cell_type": "code",
   "execution_count": 17,
   "metadata": {},
   "outputs": [],
   "source": [
    "# setting data types\n",
    "# dir(df.veiw) "
   ]
  },
  {
   "cell_type": "code",
   "execution_count": 18,
   "metadata": {},
   "outputs": [],
   "source": [
    "#help(df.veiw.astype)"
   ]
  },
  {
   "cell_type": "code",
   "execution_count": 29,
   "metadata": {},
   "outputs": [
    {
     "data": {
      "text/plain": [
       "DataFrame[null: string, price: string, floor: string, publish_date: string, veiw: string, ad_date: string, رقم الإ��لان: string, meter_price: string, built_year: string, سن�� البناء: string, paying_method: string, finish: string, advertiser: string, heading: string, level1: string, level2: string, level3: array<string>, level4: array<string>, level5: array<string>, _price: array<struct<Date:string,price:string>>, unit: string]"
      ]
     },
     "execution_count": 29,
     "metadata": {},
     "output_type": "execute_result"
    }
   ],
   "source": [
    "df # veiw columns with types"
   ]
  },
  {
   "cell_type": "code",
   "execution_count": 31,
   "metadata": {},
   "outputs": [],
   "source": [
    "from pyspark.sql.functions import udf\n",
    "# user defined function to remove commas from price string, we need that first to avoid price nulls\n",
    "commaRep = udf(lambda x: x.replace(',',''))"
   ]
  },
  {
   "cell_type": "code",
   "execution_count": 33,
   "metadata": {},
   "outputs": [],
   "source": [
    "df = df.withColumn('price', commaRep('price'))"
   ]
  },
  {
   "cell_type": "code",
   "execution_count": 34,
   "metadata": {},
   "outputs": [],
   "source": [
    "df = df.withColumn('price', df.price.astype('int'))"
   ]
  },
  {
   "cell_type": "code",
   "execution_count": 35,
   "metadata": {
    "collapsed": true
   },
   "outputs": [
    {
     "name": "stdout",
     "output_type": "stream",
     "text": [
      "+--------+\n",
      "|   price|\n",
      "+--------+\n",
      "| 8500000|\n",
      "| 3595125|\n",
      "| 4588811|\n",
      "| 5500000|\n",
      "|  460000|\n",
      "| 1255000|\n",
      "| 1100000|\n",
      "| 1300000|\n",
      "| 4600000|\n",
      "| 1638000|\n",
      "| 5000000|\n",
      "| 1100000|\n",
      "| 1250000|\n",
      "| 2911000|\n",
      "| 6500000|\n",
      "| 7500000|\n",
      "|  850000|\n",
      "| 5000000|\n",
      "|  550000|\n",
      "|15000000|\n",
      "+--------+\n",
      "only showing top 20 rows\n",
      "\n"
     ]
    }
   ],
   "source": [
    "# df.select('price').show()"
   ]
  },
  {
   "cell_type": "code",
   "execution_count": null,
   "metadata": {},
   "outputs": [],
   "source": [
    "# trim all spaces in columns value & remove array brackets"
   ]
  },
  {
   "cell_type": "code",
   "execution_count": 37,
   "metadata": {},
   "outputs": [],
   "source": [
    "from pyspark.sql import functions"
   ]
  },
  {
   "cell_type": "code",
   "execution_count": 38,
   "metadata": {},
   "outputs": [],
   "source": [
    "df = df.withColumn('level2', functions.trim(df.level2))"
   ]
  },
  {
   "cell_type": "code",
   "execution_count": 61,
   "metadata": {
    "scrolled": false
   },
   "outputs": [],
   "source": [
    "df = df.withColumn('level3', (df.level3[0]))"
   ]
  },
  {
   "cell_type": "code",
   "execution_count": 62,
   "metadata": {},
   "outputs": [],
   "source": [
    "df = df.withColumn('level3', functions.trim(df.level3))"
   ]
  },
  {
   "cell_type": "code",
   "execution_count": 41,
   "metadata": {},
   "outputs": [],
   "source": [
    "df = df.withColumn('unit', functions.trim(df.unit))"
   ]
  },
  {
   "cell_type": "code",
   "execution_count": 67,
   "metadata": {},
   "outputs": [],
   "source": [
    "# removing brackets\n",
    "df = df.withColumn('level4', (df.level4[0]))"
   ]
  },
  {
   "cell_type": "code",
   "execution_count": 77,
   "metadata": {},
   "outputs": [],
   "source": [
    "df = df.withColumn('level5', (df.level5[0]))"
   ]
  },
  {
   "cell_type": "code",
   "execution_count": 74,
   "metadata": {},
   "outputs": [],
   "source": [
    "df = df.withColumn('level4', functions.trim(df.level4))"
   ]
  },
  {
   "cell_type": "code",
   "execution_count": 73,
   "metadata": {},
   "outputs": [],
   "source": [
    "df = df.withColumn('level4', functions.trim(df.level4))"
   ]
  },
  {
   "cell_type": "markdown",
   "metadata": {},
   "source": [
    "```\n",
    "Transformation\n",
    "```"
   ]
  },
  {
   "cell_type": "code",
   "execution_count": 70,
   "metadata": {},
   "outputs": [],
   "source": [
    "def check(unit, location):\n",
    "    return df.filter('unit = {} AND level4 = {}'.format(unit, location)).show()"
   ]
  },
  {
   "cell_type": "code",
   "execution_count": 71,
   "metadata": {
    "collapsed": true
   },
   "outputs": [
    {
     "name": "stdout",
     "output_type": "stream",
     "text": [
      "+----+-------+-----+------------+-----------+----------+------------+-----------+----------+-----------+-------------+-------------+-----------+--------------------+---------------+----------------+------------------+--------+------+--------------------+----+\n",
      "|null|  price|floor|publish_date|       veiw|   ad_date|رقم الإ��لان|meter_price|built_year|سن�� البناء|paying_method|       finish| advertiser|             heading|         level1|          level2|            level3|  level4|level5|              _price|unit|\n",
      "+----+-------+-----+------------+-----------+----------+------------+-----------+----------+-----------+-------------+-------------+-----------+--------------------+---------------+----------------+------------------+--------+------+--------------------+----+\n",
      "|null|3595125|    2|  06/02/2019|      حديقة|EG-2209528|        null|    25,318 |      2020|       null|         null|SEMI_FINISHED|مالك العقار| For sale Apartment | القاهرة الكبرى|مدينة الشيخ زايد|كمبوند بالشيخ زايد|وست تاون|    []|[[2019-04-22 11:0...| شقق|\n",
      "|null|4588811|    1|  06/02/2019|      حديقة|EG-2209503|        null|    25,353 |      2020|       null|         null|SEMI_FINISHED|مالك العقار| For sale Apartment | القاهرة الكبرى|مدينة الشيخ زايد|كمبوند بالشيخ زايد|وست تاون|    []|[[2019-04-22 11:0...| شقق|\n",
      "|null|2300000|    3|  03/03/2019|      حديقة|EG-2232957|        null|    15,646 |      2019|       null|         null|SEMI_FINISHED|       وسيط|\"بنتهاوس في ويستا...| القاهرة الكبرى|مدينة الشيخ زايد|كمبوند بالشيخ زايد|وست تاون|    []|[[2019-04-22 11:0...| شقق|\n",
      "|null|3200000|    2|  30/01/2019|      ناصية|EG-2203367|        null|    15,311 |      2017|       null|         null|SEMI_FINISHED|       وسيط|    شقق فى وست تاون | القاهرة الكبرى|مدينة الشيخ زايد|كمبوند بالشيخ زايد|وست تاون|    []|[[2019-04-22 11:0...| شقق|\n",
      "|null|3100000|    2|  25/02/2019|      حديقة|EG-2227617|        null|    12,653 |      2018|       null|         null|SEMI_FINISHED|       وسيط|\"شقه للبيع في كمب...| القاهرة الكبرى|مدينة الشيخ زايد|كمبوند بالشيخ زايد|وست تاون|    []|[[2019-04-22 11:0...| شقق|\n",
      "|null|3200000|    2|  13/01/2019|      ناصية|EG-2187020|        null|    15,311 |      2018|       null|         null|SEMI_FINISHED|       وسيط|          للبيع شقه | القاهرة الكبرى|مدينة الشيخ زايد|كمبوند بالشيخ زايد|وست تاون|    []|[[2019-04-22 11:0...| شقق|\n",
      "|null|2870000|    1|  28/01/2019|      ناصية|EG-2201336|        null|    14,350 |      2015|       null|         null|SEMI_FINISHED|       وسيط|شقق للبيع فى وست ...| القاهرة الكبرى|مدينة الشيخ زايد|كمبوند بالشيخ زايد|وست تاون|    []|[[2019-04-22 11:5...| شقق|\n",
      "|null|3300000|    2|  19/01/2019|      حديقة|EG-2192618|        null|    13,469 |      2017|       null|         null|SEMI_FINISHED|       وسيط|For Sale Apartmen...| القاهرة الكبرى|مدينة الشيخ زايد|كمبوند بالشيخ زايد|وست تاون|    []|[[2019-04-22 11:5...| شقق|\n",
      "|null|2350000| null|  05/02/2019|      حديقة|EG-2208440|        null|    19,262 |      2009|       null|         null|SEMI_FINISHED|       وسيط|        للبيع - شقق | القاهرة الكبرى|مدينة الشيخ زايد|كمبوند بالشيخ زايد|وست تاون|    []|[[2019-04-22 11:5...| شقق|\n",
      "|null|3300000|    2|  06/01/2019|شارع رئيسي |EG-2179818|        null|    13,469 |      2018|       null|         null|SEMI_FINISHED|       وسيط|للبيع - شقق نصف ت...| القاهرة الكبرى|مدينة الشيخ زايد|كمبوند بالشيخ زايد|وست تاون|    []|[[2019-04-22 11:5...| شقق|\n",
      "+----+-------+-----+------------+-----------+----------+------------+-----------+----------+-----------+-------------+-------------+-----------+--------------------+---------------+----------------+------------------+--------+------+--------------------+----+\n",
      "\n"
     ]
    }
   ],
   "source": [
    "#check(location = \"'وست تاون'\",\n",
    "#     unit = \"'شقق'\")\n",
    "# level5 needs cleaning"
   ]
  },
  {
   "cell_type": "code",
   "execution_count": 93,
   "metadata": {},
   "outputs": [
    {
     "name": "stdout",
     "output_type": "stream",
     "text": [
      "+--------------------+-----+\n",
      "|              level3|count|\n",
      "+--------------------+-----+\n",
      "|         الحي السابع|   61|\n",
      "|أحياء أخرى ��ى مد...|    1|\n",
      "|           بيت الوطن|  174|\n",
      "|      الثورة الخضراء|    3|\n",
      "|         الحي العاشر|   14|\n",
      "|     الحي الثالث عشر|   18|\n",
      "|                null|   35|\n",
      "|  كمبوند بالشيخ زايد|  814|\n",
      "|     الحي السادس عشر|   83|\n",
      "|         الحي الخامس|   19|\n",
      "|أحياء أخرى فى مدي...|  112|\n",
      "|               جرينز|    6|\n",
      "|         الحي الرابع|    3|\n",
      "|     الحي الثاني عشر|    8|\n",
      "|          الحي الأول|   30|\n",
      "|         الحي الثامن|   71|\n",
      "|         الحي الثالث|    7|\n",
      "|         الحي التاسع|   32|\n",
      "|         حي الياسمين|   13|\n",
      "|  كمبوند في ٦ اكتوبر|    7|\n",
      "+--------------------+-----+\n",
      "only showing top 20 rows\n",
      "\n"
     ]
    }
   ],
   "source": [
    "# see supply of locations\n",
    "df.groupBy('level3').count().show() \n",
    "# location , amount of supply"
   ]
  },
  {
   "cell_type": "code",
   "execution_count": 91,
   "metadata": {},
   "outputs": [
    {
     "name": "stdout",
     "output_type": "stream",
     "text": [
      "+---------------+--------------------+----------+\n",
      "|           unit|              level3|max(price)|\n",
      "+---------------+--------------------+----------+\n",
      "|          أراضي|أحياء أخرى فى مدي...| 134400000|\n",
      "|     شقة بحديقة|           بيت الوطن|   2150500|\n",
      "|أرض مباني سكنية|           بيت الوطن|   6900000|\n",
      "|            شقق|                null|   3880000|\n",
      "|            شقق|           بيت الوطن|   2520000|\n",
      "|            مول|                null|  27000000|\n",
      "|         دوبلكس|         الحي التاسع|   3400000|\n",
      "|          فيلات|أحياء أخرى فى مدي...|  11000000|\n",
      "|أرض مباني سكنية|         الحي الخامس|   4500000|\n",
      "|          إداري|                null|   1850000|\n",
      "|أرض مباني سكنية|      الثورة الخضراء|   1730000|\n",
      "|       مركز طبي|أحياء أخرى فى مدي...|   1700000|\n",
      "|            شقق|         الحي الثالث|    980000|\n",
      "|      مقر إداري|أحياء أخرى فى مدي...|   9600000|\n",
      "|         دوبلكس|         الحي الثامن|   3150000|\n",
      "|            شقق|     الحي السادس عشر|   1900000|\n",
      "|            روف|         الحي الخامس|   1000000|\n",
      "|     شقق مفروشة|         الحي التاسع|   2750000|\n",
      "|      تاون هاوس|  كمبوند بالشيخ زايد|   7500000|\n",
      "|          أراضي|         الحي الثامن|   7425000|\n",
      "+---------------+--------------------+----------+\n",
      "only showing top 20 rows\n",
      "\n"
     ]
    }
   ],
   "source": [
    "# max of unit prices \n",
    "df.groupBy('unit', 'level3').max().show()"
   ]
  },
  {
   "cell_type": "code",
   "execution_count": 98,
   "metadata": {},
   "outputs": [
    {
     "name": "stdout",
     "output_type": "stream",
     "text": [
      "+---------------+--------------------+--------------------+\n",
      "|           unit|              level3|          avg(price)|\n",
      "+---------------+--------------------+--------------------+\n",
      "|          أراضي|أحياء أخرى فى مدي...|3.2079555555555556E7|\n",
      "|     شقة بحديقة|           بيت الوطن|  2013105.2631578948|\n",
      "|أرض مباني سكنية|           بيت الوطن|           4700000.0|\n",
      "|            شقق|                null|  2793333.3333333335|\n",
      "|            شقق|           بيت الوطن|  1876162.0967741935|\n",
      "|            مول|                null|               2.7E7|\n",
      "|         دوبلكس|         الحي التاسع|           2525000.0|\n",
      "|          فيلات|أحياء أخرى فى مدي...|   5493333.333333333|\n",
      "|أرض مباني سكنية|         الحي الخامس|           4500000.0|\n",
      "|          إداري|                null|           1850000.0|\n",
      "|أرض مباني سكنية|      الثورة الخضراء|           1730000.0|\n",
      "|       مركز طبي|أحياء أخرى فى مدي...|           1700000.0|\n",
      "|            شقق|         الحي الثالث|   576666.6666666666|\n",
      "|      مقر إداري|أحياء أخرى فى مدي...|           6126000.0|\n",
      "|         دوبلكس|         الحي الثامن|  2069230.7692307692|\n",
      "|            شقق|     الحي السادس عشر|   901979.5081967213|\n",
      "|            روف|         الحي الخامس|           1000000.0|\n",
      "|     شقق مفروشة|         الحي التاسع|           2750000.0|\n",
      "|      تاون هاوس|  كمبوند بالشيخ زايد|   5115085.365853659|\n",
      "|          أراضي|         الحي الثامن|           7020000.0|\n",
      "+---------------+--------------------+--------------------+\n",
      "only showing top 20 rows\n",
      "\n"
     ]
    }
   ],
   "source": [
    "# average unit price for unit\n",
    "df.groupBy('unit','level3').avg().show()"
   ]
  },
  {
   "cell_type": "code",
   "execution_count": null,
   "metadata": {},
   "outputs": [],
   "source": []
  }
 ],
 "metadata": {
  "kernelspec": {
   "display_name": "Python 3",
   "language": "python",
   "name": "python3"
  },
  "language_info": {
   "codemirror_mode": {
    "name": "ipython",
    "version": 3
   },
   "file_extension": ".py",
   "mimetype": "text/x-python",
   "name": "python",
   "nbconvert_exporter": "python",
   "pygments_lexer": "ipython3",
   "version": "3.7.1"
  }
 },
 "nbformat": 4,
 "nbformat_minor": 2
}
